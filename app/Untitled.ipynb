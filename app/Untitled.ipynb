{
 "cells": [
  {
   "cell_type": "code",
   "execution_count": 39,
   "metadata": {},
   "outputs": [],
   "source": [
    "from bs4 import BeautifulSoup\n",
    "import requests"
   ]
  },
  {
   "cell_type": "code",
   "execution_count": 40,
   "metadata": {},
   "outputs": [],
   "source": [
    "url = 'https://festa.io'\n",
    "header = {\n",
    "    'user-agent': 'Mozilla/5.0'\n",
    "}\n",
    "page = requests.get(url, headers=header)"
   ]
  },
  {
   "cell_type": "code",
   "execution_count": 41,
   "metadata": {},
   "outputs": [
    {
     "data": {
      "text/plain": [
       "<Response [200]>"
      ]
     },
     "execution_count": 41,
     "metadata": {},
     "output_type": "execute_result"
    }
   ],
   "source": [
    "page"
   ]
  },
  {
   "cell_type": "code",
   "execution_count": 42,
   "metadata": {},
   "outputs": [],
   "source": [
    "soup = BeautifulSoup(page.text, 'html.parser')"
   ]
  },
  {
   "cell_type": "code",
   "execution_count": null,
   "metadata": {},
   "outputs": [],
   "source": []
  },
  {
   "cell_type": "code",
   "execution_count": null,
   "metadata": {},
   "outputs": [],
   "source": []
  },
  {
   "cell_type": "code",
   "execution_count": 43,
   "metadata": {},
   "outputs": [
    {
     "data": {
      "text/plain": [
       "<!DOCTYPE html>\n",
       "<html lang=\"ko\"><head><meta charset=\"utf-8\"/><meta content=\"width=device-width,initial-scale=1,shrink-to-fit=no\" name=\"viewport\"/><meta content=\"#000000\" name=\"theme-color\"/><meta content=\"42401bfbbefb11467925fdce14c198b73bdb7ace\" name=\"naver-site-verification\"><link href=\"/favicon/apple-icon-57x57.png\" rel=\"apple-touch-icon\" sizes=\"57x57\"/><link href=\"/favicon/apple-icon-60x60.png\" rel=\"apple-touch-icon\" sizes=\"60x60\"/><link href=\"/favicon/apple-icon-72x72.png\" rel=\"apple-touch-icon\" sizes=\"72x72\"/><link href=\"/favicon/apple-icon-76x76.png\" rel=\"apple-touch-icon\" sizes=\"76x76\"/><link href=\"/favicon/apple-icon-114x114.png\" rel=\"apple-touch-icon\" sizes=\"114x114\"/><link href=\"/favicon/apple-icon-120x120.png\" rel=\"apple-touch-icon\" sizes=\"120x120\"/><link href=\"/favicon/apple-icon-144x144.png\" rel=\"apple-touch-icon\" sizes=\"144x144\"/><link href=\"/favicon/apple-icon-152x152.png\" rel=\"apple-touch-icon\" sizes=\"152x152\"/><link href=\"/favicon/apple-icon-180x180.png\" rel=\"apple-touch-icon\" sizes=\"180x180\"/><link href=\"/favicon/android-icon-192x192.png\" rel=\"icon\" sizes=\"192x192\" type=\"image/png\"/><link href=\"/favicon/favicon-32x32.png\" rel=\"icon\" sizes=\"32x32\" type=\"image/png\"/><link href=\"/favicon/favicon-96x96.png\" rel=\"icon\" sizes=\"96x96\" type=\"image/png\"/><link href=\"/favicon/favicon-16x16.png\" rel=\"icon\" sizes=\"16x16\" type=\"image/png\"/><meta content=\"#ffffff\" name=\"msapplication-TileColor\"/><meta content=\"/ms-icon-144x144.png\" name=\"msapplication-TileImage\"/><link href=\"/favicon/manifest.json\" rel=\"manifest\"/><link href=\"/favicon/favicon.ico\" rel=\"shortcut icon\"/><title>Festa! 이벤트를 만나는 가장 쉬운 방법</title><meta content=\"Festa에서 당신이 찾는 이벤트를 만나보세요.\" name=\"description\"/><meta content=\"Festa! 이벤트를 만나는 가장 쉬운 방법\" name=\"og:title\" property=\"og:title\"><meta content=\"website\" name=\"og:type\" property=\"og:type\"/><meta content=\"Festa에서 당신이 찾는 이벤트를 만나보세요.\" name=\"og:description\" property=\"og:description\"><meta content=\"/festa-og-img.png\" name=\"og:image\" property=\"og:image\"><meta content=\"720\" name=\"og:image:width\" property=\"og:image:width\"/><meta content=\"405\" name=\"og:image:height\" property=\"og:image:height\"/></meta></meta></meta></meta></head><body><noscript>You need to enable JavaScript to run this app.</noscript><div id=\"root\"></div><div id=\"modal\"></div><script>!function(o){function e(e){for(var t,r,n=e[0],c=e[1],f=e[2],d=0,a=[];d<n.length;d++)r=n[d],l[r]&&a.push(l[r][0]),l[r]=0;for(t in c)Object.prototype.hasOwnProperty.call(c,t)&&(o[t]=c[t]);for(b&&b(e);a.length;)a.shift()();return i.push.apply(i,f||[]),u()}function u(){for(var e,t=0;t<i.length;t++){for(var r=i[t],n=!0,c=1;c<r.length;c++){var f=r[c];0!==l[f]&&(n=!1)}n&&(i.splice(t--,1),e=s(s.s=r[0]))}return e}var r={},a={51:0},l={51:0},i=[];function s(e){if(r[e])return r[e].exports;var t=r[e]={i:e,l:!1,exports:{}};return o[e].call(t.exports,t,t.exports,s),t.l=!0,t.exports}s.e=function(i){var e=[];a[i]?e.push(a[i]):0!==a[i]&&{1:1,5:1,6:1,23:1,35:1,36:1,37:1}[i]&&e.push(a[i]=new Promise(function(e,n){for(var t=\"static/css/\"+({}[i]||i)+\".\"+{0:\"31d6cfe0\",1:\"46ea3b8b\",2:\"31d6cfe0\",3:\"31d6cfe0\",4:\"31d6cfe0\",5:\"00d47b28\",6:\"7a9a62f9\",7:\"31d6cfe0\",8:\"31d6cfe0\",10:\"31d6cfe0\",11:\"31d6cfe0\",12:\"31d6cfe0\",13:\"31d6cfe0\",14:\"31d6cfe0\",15:\"31d6cfe0\",16:\"31d6cfe0\",17:\"31d6cfe0\",18:\"31d6cfe0\",19:\"31d6cfe0\",20:\"31d6cfe0\",21:\"31d6cfe0\",22:\"31d6cfe0\",23:\"69f87e83\",24:\"31d6cfe0\",25:\"31d6cfe0\",26:\"31d6cfe0\",27:\"31d6cfe0\",28:\"31d6cfe0\",29:\"31d6cfe0\",30:\"31d6cfe0\",31:\"31d6cfe0\",32:\"31d6cfe0\",33:\"31d6cfe0\",34:\"31d6cfe0\",35:\"69f87e83\",36:\"69f87e83\",37:\"69f87e83\",38:\"31d6cfe0\",39:\"31d6cfe0\",40:\"31d6cfe0\",41:\"31d6cfe0\",42:\"31d6cfe0\",44:\"31d6cfe0\",45:\"31d6cfe0\",46:\"31d6cfe0\",47:\"31d6cfe0\",48:\"31d6cfe0\",49:\"31d6cfe0\",50:\"31d6cfe0\"}[i]+\".chunk.css\",c=s.p+t,r=document.getElementsByTagName(\"link\"),f=0;f<r.length;f++){var d=(o=r[f]).getAttribute(\"data-href\")||o.getAttribute(\"href\");if(\"stylesheet\"===o.rel&&(d===t||d===c))return e()}var a=document.getElementsByTagName(\"style\");for(f=0;f<a.length;f++){var o;if((d=(o=a[f]).getAttribute(\"data-href\"))===t||d===c)return e()}var u=document.createElement(\"link\");u.rel=\"stylesheet\",u.type=\"text/css\",u.onload=e,u.onerror=function(e){var t=e&&e.target&&e.target.src||c,r=new Error(\"Loading CSS chunk \"+i+\" failed.\\n(\"+t+\")\");r.request=t,n(r)},u.href=c,document.getElementsByTagName(\"head\")[0].appendChild(u)}).then(function(){a[i]=0}));var r=l[i];if(0!==r)if(r)e.push(r[2]);else{var t=new Promise(function(e,t){r=l[i]=[e,t]});e.push(r[2]=t);var n,c=document.getElementsByTagName(\"head\")[0],f=document.createElement(\"script\");f.charset=\"utf-8\",f.timeout=120,s.nc&&f.setAttribute(\"nonce\",s.nc),f.src=s.p+\"static/js/\"+({}[i]||i)+\".\"+{0:\"6043a06b\",1:\"13f33246\",2:\"1b474303\",3:\"9a32d3ee\",4:\"2b4db24c\",5:\"d19fd9a8\",6:\"babcd5e3\",7:\"2b1feb99\",8:\"17011342\",10:\"91e39b5f\",11:\"665ee32b\",12:\"872a8afc\",13:\"d4eebecb\",14:\"985d6bfc\",15:\"12a43662\",16:\"b3878450\",17:\"25801e15\",18:\"30ba647d\",19:\"ab2bcddd\",20:\"093cea28\",21:\"8e2d492f\",22:\"f993f513\",23:\"31c87616\",24:\"aecda1ea\",25:\"33dce7e5\",26:\"0f6eb58e\",27:\"e8b9698b\",28:\"9c81dc0b\",29:\"e51b8364\",30:\"f24d07a9\",31:\"0b68672e\",32:\"1292c7d0\",33:\"d3b1be00\",34:\"6a0e496d\",35:\"1efeb820\",36:\"b08ff538\",37:\"75a6c7f8\",38:\"bbd4ffde\",39:\"4b7c2748\",40:\"251ea78e\",41:\"5ee81c4e\",42:\"cd68d467\",44:\"d22a8f7e\",45:\"4c5757fe\",46:\"b51e043a\",47:\"c3847932\",48:\"d9c5aa8f\",49:\"a00c7b47\",50:\"53e9e57e\"}[i]+\".chunk.js\",n=function(e){f.onerror=f.onload=null,clearTimeout(d);var t=l[i];if(0!==t){if(t){var r=e&&(\"load\"===e.type?\"missing\":e.type),n=e&&e.target&&e.target.src,c=new Error(\"Loading chunk \"+i+\" failed.\\n(\"+r+\": \"+n+\")\");c.type=r,c.request=n,t[1](c)}l[i]=void 0}};var d=setTimeout(function(){n({type:\"timeout\",target:f})},12e4);f.onerror=f.onload=n,c.appendChild(f)}return Promise.all(e)},s.m=o,s.c=r,s.d=function(e,t,r){s.o(e,t)||Object.defineProperty(e,t,{enumerable:!0,get:r})},s.r=function(e){\"undefined\"!=typeof Symbol&&Symbol.toStringTag&&Object.defineProperty(e,Symbol.toStringTag,{value:\"Module\"}),Object.defineProperty(e,\"__esModule\",{value:!0})},s.t=function(t,e){if(1&e&&(t=s(t)),8&e)return t;if(4&e&&\"object\"==typeof t&&t&&t.__esModule)return t;var r=Object.create(null);if(s.r(r),Object.defineProperty(r,\"default\",{enumerable:!0,value:t}),2&e&&\"string\"!=typeof t)for(var n in t)s.d(r,n,function(e){return t[e]}.bind(null,n));return r},s.n=function(e){var t=e&&e.__esModule?function(){return e.default}:function(){return e};return s.d(t,\"a\",t),t},s.o=function(e,t){return Object.prototype.hasOwnProperty.call(e,t)},s.p=\"/\",s.oe=function(e){throw console.error(e),e};var t=window.webpackJsonp=window.webpackJsonp||[],n=t.push.bind(t);t.push=e,t=t.slice();for(var c=0;c<t.length;c++)e(t[c]);var b=n;u()}([])</script><script src=\"/static/js/43.87911221.chunk.js\"></script><script src=\"/static/js/main.1b51cd80.chunk.js\"></script></body></html>"
      ]
     },
     "execution_count": 43,
     "metadata": {},
     "output_type": "execute_result"
    }
   ],
   "source": [
    "soup"
   ]
  },
  {
   "cell_type": "code",
   "execution_count": null,
   "metadata": {},
   "outputs": [],
   "source": []
  }
 ],
 "metadata": {
  "kernelspec": {
   "display_name": "Python 3",
   "language": "python",
   "name": "python3"
  },
  "language_info": {
   "codemirror_mode": {
    "name": "ipython",
    "version": 3
   },
   "file_extension": ".py",
   "mimetype": "text/x-python",
   "name": "python",
   "nbconvert_exporter": "python",
   "pygments_lexer": "ipython3",
   "version": "3.7.5"
  }
 },
 "nbformat": 4,
 "nbformat_minor": 4
}
